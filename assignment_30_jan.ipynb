{
 "cells": [
  {
   "cell_type": "markdown",
   "id": "357f52c3",
   "metadata": {},
   "source": [
    "1- Write a program to accept percentage from the user and display the grade according to the following \n",
    "criteria: \n",
    "Marks \n",
    "Grade \n",
    ">90 \n",
    "A \n",
    ">80 and <=90 \n",
    "B \n",
    ">=60 and <=80 \n",
    "C \n",
    "below 60 \n",
    "D \n",
    "\n",
    "\n"
   ]
  },
  {
   "cell_type": "code",
   "execution_count": 5,
   "id": "8b11798e",
   "metadata": {},
   "outputs": [
    {
     "name": "stdout",
     "output_type": "stream",
     "text": [
      "Enter your mark in the percentage: 75\n",
      "You have Secured 'C' Grade\n"
     ]
    }
   ],
   "source": [
    "#Question 1 answer\n",
    "mark=int(input(\"Enter your mark in the percentage: \"))\n",
    "if mark>90:\n",
    "    print(\"You have Secured 'A' Grade\")\n",
    "elif mark>80 and mark<=90:\n",
    "    print(\"You have Secured 'B' Grade\")\n",
    "elif mark>=60 and mark<=80:\n",
    "    print(\"You have Secured 'C' Grade\")\n",
    "else:\n",
    "    print(\"You have Secured 'D' Grade\")"
   ]
  },
  {
   "cell_type": "markdown",
   "id": "a16833a4",
   "metadata": {},
   "source": [
    "2-Write a program to accept the cost price of a bike and display the road tax to be paid according to the \n",
    "following criteria: "
   ]
  },
  {
   "cell_type": "code",
   "execution_count": 8,
   "id": "3a1d29af",
   "metadata": {},
   "outputs": [
    {
     "name": "stdout",
     "output_type": "stream",
     "text": [
      "Enter the cost price of the bike:100000\n",
      "Your road tax is 90000.0\n"
     ]
    }
   ],
   "source": [
    "#Question 2 answer\n",
    "cost=int(input(\"Enter the cost price of the bike:\"))\n",
    "if cost>100000:\n",
    "    print(\"Your road tax is {}\".format(cost*0.75))\n",
    "elif cost>50000 and cost<=100000:\n",
    "    print(\"Your road tax is {}\".format(cost*0.90))\n",
    "elif cost<=50000:\n",
    "    print(\"Your road tax is {}\".format(cost*0.95))"
   ]
  },
  {
   "cell_type": "code",
   "execution_count": 30,
   "id": "c843e2fc",
   "metadata": {},
   "outputs": [
    {
     "name": "stdout",
     "output_type": "stream",
     "text": [
      "Enter your city name:kk\n"
     ]
    }
   ],
   "source": []
  },
  {
   "cell_type": "code",
   "execution_count": 11,
   "id": "5e7a69dc",
   "metadata": {},
   "outputs": [
    {
     "name": "stdout",
     "output_type": "stream",
     "text": [
      "Enter your city name:Delhi\n",
      "The Monument of your city is Red Fort\n"
     ]
    }
   ],
   "source": [
    "# 3-Accept the name of any city from the user and display monumnets of that city\n",
    "# Ans:\n",
    "city=input(\"Enter your city name:\")\n",
    "if city==\"Delhi\":\n",
    "    print(\"The Monument of your city is Red Fort\")\n",
    "elif city==\"Agra\":\n",
    "    print(\"The Monumnet of your city is Taj Mahal\")\n",
    "elif city==\"Jaipur\":\n",
    "    print(\"The Monumnet of your city is Jal Mahal\")"
   ]
  },
  {
   "cell_type": "markdown",
   "id": "47c92d56",
   "metadata": {},
   "source": [
    "4-Check how many times a given number can be divide by 3 before it is less than or eqaul to 10."
   ]
  },
  {
   "cell_type": "code",
   "execution_count": 21,
   "id": "9e28a057",
   "metadata": {},
   "outputs": [
    {
     "name": "stdout",
     "output_type": "stream",
     "text": [
      "Enter the number: 21\n",
      "4\n"
     ]
    }
   ],
   "source": [
    "# Ans:\n",
    "num=int(input(\"Enter the number: \"))\n",
    "count=0\n",
    "while num>=10:\n",
    "    if num%3==0:\n",
    "        count=count+1\n",
    "    num=num-1\n",
    "print(count)\n"
   ]
  },
  {
   "cell_type": "markdown",
   "id": "262d03e3",
   "metadata": {},
   "source": [
    "5-Why and when use while loop in python give a detailed description with the example.\n",
    "Ans:we should use a while loop when we don't know if we even want to run it a single time.for example if we don't know the number of iteration then we can use the while loop.Exp:, if we want to ask a user for a number between 1 and 10, we don't know how many times the user may enter a larger number, so we keep asking \"while the number is not between 1 and 10\".\n",
    "\n"
   ]
  },
  {
   "cell_type": "markdown",
   "id": "84c70200",
   "metadata": {},
   "source": [
    "6-Patteren in using the nested while loop."
   ]
  },
  {
   "cell_type": "code",
   "execution_count": 23,
   "id": "4db93115",
   "metadata": {},
   "outputs": [
    {
     "name": "stdout",
     "output_type": "stream",
     "text": [
      "Enter number of rows : 7\n",
      "* \n",
      "* * \n",
      "* * * \n",
      "* * * * \n",
      "* * * * * \n",
      "* * * * * * \n",
      "* * * * * * * \n"
     ]
    }
   ],
   "source": [
    "# Ans: \n",
    "#pattern 1\n",
    "n = int(input('Enter number of rows : '))\n",
    "\n",
    "i = 1\n",
    "while i <= n :\n",
    "    j = 1\n",
    "    while j <= i:\n",
    "        print(\"*\", end = \" \")\n",
    "        j += 1\n",
    "    print()\n",
    "    i += 1"
   ]
  },
  {
   "cell_type": "code",
   "execution_count": 24,
   "id": "360d6642",
   "metadata": {},
   "outputs": [
    {
     "name": "stdout",
     "output_type": "stream",
     "text": [
      "Enter number of rows : 7\n",
      "* * * * * * * \n",
      "* * * * * * \n",
      "* * * * * \n",
      "* * * * \n",
      "* * * \n",
      "* * \n",
      "* \n"
     ]
    }
   ],
   "source": [
    "#pattern 2\n",
    "n = int(input('Enter number of rows : '))\n",
    "\n",
    "i = 1\n",
    "while i <= n :\n",
    "    j = n\n",
    "    while j >= i:\n",
    "        print(\"*\", end = \" \")\n",
    "        j -= 1\n",
    "    print()\n",
    "    i += 1"
   ]
  },
  {
   "cell_type": "code",
   "execution_count": 25,
   "id": "78f43c1f",
   "metadata": {},
   "outputs": [
    {
     "name": "stdout",
     "output_type": "stream",
     "text": [
      "Enter number of rows : 5\n",
      "  1 \n",
      "  2   3 \n",
      "  4   5   6 \n",
      "  7   8   9  10 \n",
      " 11  12  13  14  15 \n"
     ]
    }
   ],
   "source": [
    "#pattern 3\n",
    "n = int(input('Enter number of rows : '))\n",
    "\n",
    "k = 1\n",
    "i = 1\n",
    "while i <= n :\n",
    "    j = 1\n",
    "    while j <= i:\n",
    "        print(\"{:3d}\".format(k), end = \" \")\n",
    "        j += 1\n",
    "        k += 1\n",
    "    print()\n",
    "    i += 1"
   ]
  },
  {
   "cell_type": "code",
   "execution_count": 26,
   "id": "2bf45cc3",
   "metadata": {},
   "outputs": [
    {
     "name": "stdout",
     "output_type": "stream",
     "text": [
      "10\n",
      "9\n",
      "8\n",
      "7\n",
      "6\n",
      "5\n",
      "4\n",
      "3\n",
      "2\n",
      "1\n"
     ]
    }
   ],
   "source": [
    "# 7-Reverse a While loop to display numbers from 10 to 1\n",
    "# Ans:\n",
    "num=10\n",
    "while num>=1:\n",
    "    print(num)\n",
    "    num=num-1\n",
    "    "
   ]
  },
  {
   "cell_type": "code",
   "execution_count": 28,
   "id": "861c8630",
   "metadata": {},
   "outputs": [
    {
     "name": "stdout",
     "output_type": "stream",
     "text": [
      "10\n",
      "9\n",
      "8\n",
      "7\n",
      "6\n",
      "5\n",
      "4\n",
      "3\n",
      "2\n",
      "1\n"
     ]
    }
   ],
   "source": [
    "#8-Reverse a for loop to display the numbers from 10 to 1\n",
    "# Ans:\n",
    "for i in range(10,0,-1):\n",
    "    print(i)"
   ]
  },
  {
   "cell_type": "code",
   "execution_count": null,
   "id": "4f443642",
   "metadata": {},
   "outputs": [],
   "source": []
  }
 ],
 "metadata": {
  "kernelspec": {
   "display_name": "Python 3 (ipykernel)",
   "language": "python",
   "name": "python3"
  },
  "language_info": {
   "codemirror_mode": {
    "name": "ipython",
    "version": 3
   },
   "file_extension": ".py",
   "mimetype": "text/x-python",
   "name": "python",
   "nbconvert_exporter": "python",
   "pygments_lexer": "ipython3",
   "version": "3.10.5"
  }
 },
 "nbformat": 4,
 "nbformat_minor": 5
}
